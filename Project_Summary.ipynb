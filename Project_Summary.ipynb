{
 "cells": [
  {
   "cell_type": "markdown",
   "id": "128e79b7",
   "metadata": {},
   "source": [
    "#                Employee Performance Analysis - INX Future Inc"
   ]
  },
  {
   "cell_type": "raw",
   "id": "fc925d50",
   "metadata": {},
   "source": [
    "Candidate Name      : Sharmila Nattamai Ravindran\n",
    "E-Mail              : nsseeshar@gmail.com\n",
    "Project Code        : 10281 \n",
    "REP Name            : DataMites Solutions Pvt Ltd\n",
    "Assesment ID        : E10901-PR2-V18\n",
    "Module              : Certified Data Scientist - Project\n",
    "Exam Format         : Open Project- IABAC™ Project Submission\n",
    "Registered Trainer  : Ashok Kumar A\n",
    "Submission Deadline Date:06-Aug-2023  "
   ]
  },
  {
   "cell_type": "markdown",
   "id": "946e9029",
   "metadata": {},
   "source": [
    "# Project Summary"
   ]
  },
  {
   "cell_type": "markdown",
   "id": "f16d82e9",
   "metadata": {},
   "source": [
    "The Data science project which is given here is an analysis of employee performance from INX Future Inc. The project goal is to find the performance rating of the employees from each feature of their data such as total work experience, gender, department, current role..etc. The Goal and Insights of the project as follows,"
   ]
  },
  {
   "cell_type": "markdown",
   "id": "d21384a0",
   "metadata": {},
   "source": [
    "1. Department wise performances\n",
    "2. Top 3 Important Factors effecting employee performance\n",
    "3. A trained model which can predict the employee performance based on factors as inputs. This will be used to hire employees\n",
    "4. Recommendations to improve the employee performance based on insights from analysis."
   ]
  },
  {
   "cell_type": "markdown",
   "id": "fcc6ae1c",
   "metadata": {},
   "source": [
    "The given data of employees has the 1200 data to perform a higher level machine learning where it is well structured. The features present in the data are 28 in total. The Shape of the data is 1200x28. The 28 features are classified into quantitative and qualitative where 9 features are qualitative and 19 features are quantitative. "
   ]
  },
  {
   "cell_type": "markdown",
   "id": "f52c35e2",
   "metadata": {},
   "source": [
    "The dataset is a complete labelled data and categorical which decides the machine learning algorithm to be used. The important aspects of the data are depending on the correlation of data between features and performance rating. The analysis of the project has gone through the stage of distribution analysis, correlation analysis and analysis by each department to satisfy the project goal."
   ]
  },
  {
   "cell_type": "markdown",
   "id": "8b78f1e5",
   "metadata": {},
   "source": [
    "The machine learning model which is used in this project is Logistic Regression and Random Forest Classifier which predicted the nearby higher accuracy of 96%. Since it is categorical labelled data, it has to go through the classifier machine learning techniques which will be suitable for this structured data. The numerical features are the most relevant in the model according to correlation technique."
   ]
  },
  {
   "cell_type": "markdown",
   "id": "1f8414bd",
   "metadata": {},
   "source": [
    "One of the goals of this project is to find the important feature effecting the performance rating. The important features were predicted using the machine learning model feature importance technique. The main technique used in the preprocessing data using the Label encoding method to convert the string-categorical data into numerical data, because, the most of machine learning methods are based on numerical methods where strings are not supportive. The overall project was performed and achieved the goals by using the machine learning model and visualization techniques."
   ]
  },
  {
   "cell_type": "markdown",
   "id": "b4024c13",
   "metadata": {},
   "source": [
    "# 1. Requirement"
   ]
  },
  {
   "cell_type": "markdown",
   "id": "223d648e",
   "metadata": {},
   "source": [
    "The data was given from the IABAC for this project where the collected source is IABAC. The data is based on INX Future Inc, (referred as INX ). It is one of the leading data analytics and automation solutions provider with over 15 years of global business presence. The data is not from the real organization. The whole project was done in Jupiter notebook with python platform."
   ]
  },
  {
   "cell_type": "markdown",
   "id": "8c59399d",
   "metadata": {},
   "source": [
    "INSIGHTS OF THE PROJECT :"
   ]
  },
  {
   "cell_type": "markdown",
   "id": "097d1474",
   "metadata": {},
   "source": [
    "1. Department wise performances\n",
    "2. Top 3 Important Factors effecting employee performance\n",
    "3. A trained model which can predict the employee performance based on factors as inputs. This\n",
    "will be used to hire employees\n",
    "4. Recommendations to improve the employee performance based on insights from analysis."
   ]
  },
  {
   "cell_type": "markdown",
   "id": "99eddcbc",
   "metadata": {},
   "source": [
    "# 2. Analysis"
   ]
  },
  {
   "cell_type": "markdown",
   "id": "289cd427",
   "metadata": {},
   "source": [
    "Data were analyzed by describing the features present in the data. the features play the bigger part in the analysis. the features tell the relation between the dependent and independent variables. Pandas also help to describe the datasets answering following questions early in our project. The futures present in the data are divided into numerical and categorical data."
   ]
  },
  {
   "cell_type": "markdown",
   "id": "12f46f31",
   "metadata": {},
   "source": [
    "# Categorical Features"
   ]
  },
  {
   "cell_type": "markdown",
   "id": "7045e062",
   "metadata": {},
   "source": [
    "These values classify the samples into sets of similar samples. Within categorical features are the values nominal, ordinal, ratio, or interval based. The categorical features as follows,"
   ]
  },
  {
   "cell_type": "raw",
   "id": "bd700144",
   "metadata": {},
   "source": [
    "Gender\n",
    "EducationBackground\n",
    "MaritalStatus\n",
    "EmpDepartment\n",
    "EmpJobRole\n",
    "BusinessTravelFrequency\n",
    "EmpEducationLevel\n",
    "EmpEnvironmentSatisfaction\n",
    "EmpJobInvolvement\n",
    "EmpJobLevel\n",
    "EmpJobSatisfaction\n",
    "OverTime\n",
    "EmpRelationshipSatisfaction\n",
    "EmpWorkLifeBalance\n",
    "Attrition\n",
    "PerformanceRating"
   ]
  },
  {
   "cell_type": "markdown",
   "id": "ea45fc39",
   "metadata": {},
   "source": [
    "# Numerical Features"
   ]
  },
  {
   "cell_type": "markdown",
   "id": "f4065953",
   "metadata": {},
   "source": [
    "These values change from sample to sample. Within numerical features are the values discrete, continuous, or timeseries based. The Numerical Features as follows,"
   ]
  },
  {
   "cell_type": "raw",
   "id": "fff61339",
   "metadata": {},
   "source": [
    "Age\n",
    "DistanceFromHome\n",
    "EmpHourlyRate\n",
    "NumCompaniesWorked\n",
    "EmpLastSalaryHikePercent\n",
    "TotalWorkExperienceInYears\n",
    "TrainingTimesLastYear\n",
    "ExperienceYearsAtThisCompany\n",
    "ExperienceYearsInCurrentRole\n",
    "YearsSinceLastPromotion\n",
    "YearsWithCurrManager"
   ]
  },
  {
   "cell_type": "markdown",
   "id": "96cc4958",
   "metadata": {},
   "source": [
    "# Alphanumeric Features"
   ]
  },
  {
   "cell_type": "markdown",
   "id": "3657aac9",
   "metadata": {},
   "source": [
    "Numerical, alphanumeric data within same feature. These are candidates for correcting goal. Employee ID number is a mix of numeric and alphanumeric data types."
   ]
  },
  {
   "cell_type": "markdown",
   "id": "b7a0edca",
   "metadata": {},
   "source": [
    "# Distribution of Numerical Features"
   ]
  },
  {
   "cell_type": "markdown",
   "id": "9bf90574",
   "metadata": {},
   "source": [
    "This helps us determine, among other early insights, how representative is the training dataset of the actual problem domain.the distribution can be derived or visualized using the density map between the numerical or categorical features present in the data."
   ]
  },
  {
   "cell_type": "raw",
   "id": "8c9efb7d",
   "metadata": {},
   "source": [
    "1. The age distribution is starting from 18 to 60 where the most of the employees are lying between 25 to 45 age count.\n",
    "2. The distance from home to office is distributing from 1 unit to 29 unit which can be kilometre or mile. The most of the employees are coming from the range of 1 to 10 units.\n",
    "3. Employees are worked in the multiple companies up to 8 companies where most of the employees worked up to 2 companies before getting to work here.\n",
    "4. The hourly rate range is 60 to 100 for majority employees work in this company.\n",
    "5. In General, Most of Employees work up to 5 years in this company.\n",
    "6. Most of the employees get 11% to 15% of salary hike in this company."
   ]
  },
  {
   "cell_type": "markdown",
   "id": "caea6f18",
   "metadata": {},
   "source": [
    "# Distribution of Categorical Features"
   ]
  },
  {
   "cell_type": "raw",
   "id": "de50c8f5",
   "metadata": {},
   "source": [
    "1. The Gender variance is divided by 60% of Male employees and 40% of Female employees in the company.\n",
    "2. The number of the educational backgrounds present in the employees is six unique backgrounds.\n",
    "3. Nineteen unique employee job roles are present in this company.\n",
    "4. The most of the employees are having the education level of 3\n",
    "5. The Job satisfaction level in this company is high level for the majority of employees.\n",
    "6. The 85% of employees are not having attrition in their work\n",
    "7. Only 11% of employees in the company were achieved level 4 - performance rating\n",
    "8. The overall percentage of employees doing overtime is 30%"
   ]
  },
  {
   "cell_type": "markdown",
   "id": "9c7f13b3",
   "metadata": {},
   "source": [
    "# Data Clean Check"
   ]
  },
  {
   "cell_type": "markdown",
   "id": "47828d40",
   "metadata": {},
   "source": [
    "The given data is well structured and cleaned and there are no missing data present in this data.There is no need for the data cleaning"
   ]
  },
  {
   "cell_type": "markdown",
   "id": "14614a0b",
   "metadata": {},
   "source": [
    "# Analysis by Visualization"
   ]
  },
  {
   "cell_type": "markdown",
   "id": "180d31a4",
   "metadata": {},
   "source": [
    "Correlation is a statistical technique that can show how strong pair of variables are related. Feature selection is also known as Variable selection or Attribute selection.Essentially, it is the process of selecting the most important/relevant Features of a dataset. Only correlations of all the factors with PerformanceRating is considered for getting the best model as per business case."
   ]
  },
  {
   "cell_type": "markdown",
   "id": "663096b3",
   "metadata": {},
   "source": [
    "# Machine Learning Model"
   ]
  },
  {
   "cell_type": "markdown",
   "id": "abe6c6e0",
   "metadata": {},
   "source": [
    "The machine learning models used in this project are"
   ]
  },
  {
   "cell_type": "raw",
   "id": "b3617afe",
   "metadata": {},
   "source": [
    "1.Logistic Regression\n",
    "2.Random Forest Classifier"
   ]
  },
  {
   "cell_type": "markdown",
   "id": "18c60d21",
   "metadata": {},
   "source": [
    "Both machine learning algorithms are best for classification and labelled data. The train and test data are divided and fitted into the model and passed through the machine learning. Since we have already noted the severe imbalance in the values within the target variable, we implement the SMOTE method in the dealing with this skewed value via the learn Python package. The predicted data and test data achieved the accuracy rate of,"
   ]
  },
  {
   "cell_type": "raw",
   "id": "ae4299a4",
   "metadata": {},
   "source": [
    "Logistic Regression : 76%\n",
    "Random Forest Classifier: 96%"
   ]
  },
  {
   "cell_type": "markdown",
   "id": "19a3f14e",
   "metadata": {},
   "source": [
    "# 3. Summary"
   ]
  },
  {
   "cell_type": "markdown",
   "id": "484458e8",
   "metadata": {},
   "source": [
    "# Goal 1: Department wise performances\n"
   ]
  },
  {
   "cell_type": "markdown",
   "id": "e9359375",
   "metadata": {},
   "source": [
    "In department wise performance, we have to analyze the data from each department present in the category. The data frame has to be separated or sliced according to department wise. In Employee department feature there are six departments available. The performance analysis by the department as follows,"
   ]
  },
  {
   "cell_type": "markdown",
   "id": "8f7f51bd",
   "metadata": {},
   "source": [
    "Sales: The Performace rating level 3 is more in the sales department. The male performance rating the little bit higher compared to female. The total work experience does not count the performance rating."
   ]
  },
  {
   "cell_type": "markdown",
   "id": "3751e7bf",
   "metadata": {},
   "source": [
    "Human Resources: The majority of the employees lying under the level 3 performance. The older people are performing low in this department. The female employees in HR department doing really well in their performance. The total work experience does matter to performance in this department."
   ]
  },
  {
   "cell_type": "markdown",
   "id": "e973af05",
   "metadata": {},
   "source": [
    "Development: The largest number of employees are level 3 performers. Employees of all age are performing at the level of 3 only. The gender-based performance is nearly same for both."
   ]
  },
  {
   "cell_type": "markdown",
   "id": "840c2b36",
   "metadata": {},
   "source": [
    "Data Science: The highest average of level 3 performance is in data science department. Data science is the only department where less number of level 2 performers. The overall performance is higher compared to all departments. The age does not count as an important factor in their performance. Male employees are doing good in this department. Same like HR, the number of work experience does matter."
   ]
  },
  {
   "cell_type": "markdown",
   "id": "d5d6fb8d",
   "metadata": {},
   "source": [
    "Research & Development: The age factor is not deviating from the level of performance here where different employees with different age are there in every level of performance. The R&D has the good female employees in their performance."
   ]
  },
  {
   "cell_type": "markdown",
   "id": "fd052931",
   "metadata": {},
   "source": [
    "Finance: The finance department performance is exponentially decreasing when age increases. The male employees are doing good. The experience factor is inversely relating to the performance level."
   ]
  },
  {
   "cell_type": "markdown",
   "id": "947b1032",
   "metadata": {},
   "source": [
    "# Goal 2: The Top 3 important features effecting the employee performance"
   ]
  },
  {
   "cell_type": "markdown",
   "id": "3cc1bbef",
   "metadata": {},
   "source": [
    "The Random Forest classifier in Sklearn contains a very convenient and most useful attribute feature importances which tells us which features within our dataset has been given most importance through the ML. The top three important features affecting the performance rating are ordered with their importance level as follows,"
   ]
  },
  {
   "cell_type": "raw",
   "id": "ad3f151a",
   "metadata": {},
   "source": [
    "1. Employment Environment Satisfaction\n",
    "2. Employee Salary Hike Percentage\n",
    "3. Years Since the last Promotion"
   ]
  },
  {
   "cell_type": "markdown",
   "id": "c94989f8",
   "metadata": {},
   "source": [
    "# Goal 3: A Trained model which can predict the employee performance"
   ]
  },
  {
   "cell_type": "markdown",
   "id": "713a9c51",
   "metadata": {},
   "source": [
    "The trained model is created using the machine learning algorithm as follows with the accuracy score,"
   ]
  },
  {
   "cell_type": "raw",
   "id": "f15644be",
   "metadata": {},
   "source": [
    "Logistic Regression Classifier : 76% accuracy\n",
    "Random Forest Classifier: 96% accuracy"
   ]
  },
  {
   "cell_type": "markdown",
   "id": "487ee11f",
   "metadata": {},
   "source": [
    "# Goal 4: Recommendations to improve the employee performance"
   ]
  },
  {
   "cell_type": "raw",
   "id": "29ef0222",
   "metadata": {},
   "source": [
    "1. Employees with low Performance Rating should be taking very care of since they can ruin the working atmosphere of the other employees.\n",
    "2. Interactive and encouraging training sections should be arranges every 6months or a year to encourage those kind of employee whose performance are going low.\n",
    "3. Some positive changes should be made in the working environment for employees.\n",
    "4. Sales and Research & Development department should follow strategies or policies followed by Development department as there are high percentage of Good Performance Rating and low percentage of poor performance rating.\n",
    "5. Salary Hike Policies should be changed as per convenience of company as well as employees.\n",
    "6. Years of salary hike should be reduced and hike percentage should be increased for employee satisfaction.\n",
    "7. Employee issues should be taken into consideration so that they can work peacefully and improve their performance.\n",
    "8. Flexibility in working hours should be granted to balance the work life to improve performance in work."
   ]
  },
  {
   "cell_type": "markdown",
   "id": "9f27b873",
   "metadata": {},
   "source": [
    "The model will help increase the market perception of best employer and thereby attracting best talents to join the company."
   ]
  },
  {
   "cell_type": "code",
   "execution_count": null,
   "id": "d543877a",
   "metadata": {},
   "outputs": [],
   "source": []
  }
 ],
 "metadata": {
  "kernelspec": {
   "display_name": "Python 3 (ipykernel)",
   "language": "python",
   "name": "python3"
  },
  "language_info": {
   "codemirror_mode": {
    "name": "ipython",
    "version": 3
   },
   "file_extension": ".py",
   "mimetype": "text/x-python",
   "name": "python",
   "nbconvert_exporter": "python",
   "pygments_lexer": "ipython3",
   "version": "3.10.9"
  }
 },
 "nbformat": 4,
 "nbformat_minor": 5
}
